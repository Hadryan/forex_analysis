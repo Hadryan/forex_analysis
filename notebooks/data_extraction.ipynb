{
 "cells": [
  {
   "cell_type": "code",
   "execution_count": 4,
   "metadata": {},
   "outputs": [],
   "source": [
    "import requests\n",
    "from bs4 import BeautifulSoup\n",
    "import numpy as np\n",
    "import re\n",
    "import pandas as pd\n",
    "import datetime\n",
    "import time"
   ]
  },
  {
   "cell_type": "code",
   "execution_count": 5,
   "metadata": {},
   "outputs": [],
   "source": [
    "url = 'https://investir.lesechos.fr/traders/forex/'"
   ]
  },
  {
   "cell_type": "code",
   "execution_count": 6,
   "metadata": {},
   "outputs": [],
   "source": [
    "def make_the_soup(url, timer_mean=0, timer_std=4):\n",
    "\n",
    "    # Waiting during a random time around timer_mean sec.\n",
    "    time.sleep(abs(np.random.randn()*timer_std + timer_mean))\n",
    "    # Getting the current time\n",
    "    now = datetime.datetime.now()\n",
    "    # Making the soup\n",
    "    page = requests.get(url)\n",
    "    soup = BeautifulSoup(page.text, 'html.parser')\n",
    "\n",
    "    return soup, now\n",
    "\n",
    "def get_currency(soup, now):\n",
    "\n",
    "    dict_values = {\n",
    "        'year' : now.year,\n",
    "        'month' : now.month,\n",
    "        'day' : now.day,\n",
    "        'hour' : now.hour,\n",
    "        'minute' : now.minute\n",
    "    }\n",
    "    for tr in soup.find('table').find_all('tr'):\n",
    "        if tr.find_all('td'):\n",
    "            dict_values[tr.find_all('td')[0].text.strip()] = np.float(tr.find_all('td')[1].text.strip().replace(',','.'))\n",
    "            \n",
    "    return dict_values\n",
    "\n",
    "def dump_data(f, soup, now):\n",
    "    soup, now = make_the_soup(url)\n",
    "    dict_values = get_currency(soup, now) \n",
    "    data = np.array([list(dict_values.values())])\n",
    "\n",
    "    np.savetxt(f, data)\n",
    "    f.flush()\n",
    "    time.sleep(0.1)"
   ]
  },
  {
   "cell_type": "code",
   "execution_count": 15,
   "metadata": {},
   "outputs": [],
   "source": [
    "def make_the_soup(url, timer_mean=15, timer_std=4):\n",
    "\n",
    "    # Waiting during a random time around timer_mean sec.\n",
    "    time.sleep(abs(np.random.randn()*timer_std + timer_mean))\n",
    "    # Getting the current time\n",
    "    now = datetime.datetime.now()\n",
    "    # Making the soup\n",
    "    page = requests.get(url)\n",
    "    soup = BeautifulSoup(page.text, 'html.parser')\n",
    "\n",
    "    return soup, now\n",
    "\n",
    "def get_currency(soup, now):\n",
    "\n",
    "    dict_values = {\n",
    "        'year' : now.year,\n",
    "        'month' : now.month,\n",
    "        'day' : now.day,\n",
    "        'hour' : now.hour,\n",
    "        'minute' : now.minute,\n",
    "        'second' : now.second\n",
    "    }\n",
    "    for tr in soup.find('table').find_all('tr'):\n",
    "        if tr.find_all('td'):\n",
    "            dict_values[tr.find_all('td')[0].text.strip()] = np.float(tr.find_all('td')[1].text.strip().replace(',','.'))\n",
    "    \n",
    "    header = str(list(dict_values.keys()))[1:-1].replace('\\'','')\n",
    "    data = np.array([list(dict_values.values())])\n",
    "    \n",
    "    return header, data\n",
    "\n",
    "def dump_data(f, data):\n",
    "\n",
    "    np.savetxt(f, data)\n",
    "    f.flush()\n",
    "    time.sleep(0.1)"
   ]
  },
  {
   "cell_type": "code",
   "execution_count": 16,
   "metadata": {},
   "outputs": [
    {
     "name": "stdout",
     "output_type": "stream",
     "text": [
      "0\n",
      "1\n",
      "2\n"
     ]
    }
   ],
   "source": [
    "soup, now = make_the_soup(url)\n",
    "header, data = get_currency(soup, now)\n",
    "\n",
    "with open('AE_data.csv', 'wb') as f:\n",
    "    np.savetxt(f, data, header=header)\n",
    "    for i in range(3):\n",
    "        print(i)\n",
    "        soup, now = make_the_soup(url)\n",
    "        header, data = get_currency(soup, now)\n",
    "        dump_data(f, data)"
   ]
  },
  {
   "cell_type": "code",
   "execution_count": null,
   "metadata": {},
   "outputs": [],
   "source": [
    "time.time()"
   ]
  },
  {
   "cell_type": "code",
   "execution_count": 21,
   "metadata": {},
   "outputs": [
    {
     "name": "stdout",
     "output_type": "stream",
     "text": [
      "lol\n",
      "Manual break by user\n"
     ]
    }
   ],
   "source": [
    "try:\n",
    "    while True:\n",
    "        print('lol')\n",
    "        time.sleep(5)\n",
    "except KeyboardInterrupt:\n",
    "    print('Manual break by user')\n",
    "\n"
   ]
  },
  {
   "cell_type": "code",
   "execution_count": null,
   "metadata": {},
   "outputs": [],
   "source": []
  },
  {
   "cell_type": "code",
   "execution_count": null,
   "metadata": {},
   "outputs": [],
   "source": [
    "dico = get_currency(soup)\n",
    "str(list(dico.keys()))[1:-1].replace('\\'','')"
   ]
  },
  {
   "cell_type": "code",
   "execution_count": null,
   "metadata": {},
   "outputs": [],
   "source": [
    "header = str(list(dict_values.keys()))[1:-1].replace('\\'','')\n",
    "data = list(dict_values.values())\n",
    "np.savetxt('AB_data.csv', np.array([data]), header=header)"
   ]
  },
  {
   "cell_type": "code",
   "execution_count": null,
   "metadata": {},
   "outputs": [],
   "source": [
    "import numpy as np\n",
    "\n",
    "x = np.linspace(0, 1, 201)\n",
    "y = np.random.random(201)\n",
    "\n",
    "soup, now = make_the_soup(url)\n",
    "dict_values = get_currency(soup, now)\n",
    "\n",
    "header = str(list(dict_values.keys()))[1:-1].replace('\\'','')\n",
    "print(header)\n",
    "\n",
    "with open('AE_data.csv', 'wb') as f:\n",
    "    np.savetxt(f, np.array([list(dict_values.values())]), header=header)\n",
    "    for i in range(3):\n",
    "        print(i)\n",
    "        \n",
    "        soup, now = make_the_soup(url)\n",
    "        dict_values = get_currency(soup, now) \n",
    "        data = np.array([list(dict_values.values())])\n",
    "\n",
    "        np.savetxt(f, data)\n",
    "        f.flush()\n",
    "        time.sleep(0.1)"
   ]
  },
  {
   "cell_type": "code",
   "execution_count": null,
   "metadata": {},
   "outputs": [],
   "source": []
  }
 ],
 "metadata": {
  "kernelspec": {
   "display_name": "Python 3",
   "language": "python",
   "name": "python3"
  },
  "language_info": {
   "codemirror_mode": {
    "name": "ipython",
    "version": 3
   },
   "file_extension": ".py",
   "mimetype": "text/x-python",
   "name": "python",
   "nbconvert_exporter": "python",
   "pygments_lexer": "ipython3",
   "version": "3.7.7"
  }
 },
 "nbformat": 4,
 "nbformat_minor": 4
}
