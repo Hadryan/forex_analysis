{
 "cells": [
  {
   "cell_type": "code",
   "execution_count": 1,
   "metadata": {},
   "outputs": [],
   "source": [
    "import requests\n",
    "from bs4 import BeautifulSoup\n",
    "import numpy as np\n",
    "import re\n",
    "import pandas as pd\n",
    "import datetime\n",
    "import time"
   ]
  },
  {
   "cell_type": "markdown",
   "metadata": {},
   "source": [
    "# Forex"
   ]
  },
  {
   "cell_type": "code",
   "execution_count": null,
   "metadata": {},
   "outputs": [],
   "source": [
    "url = 'https://investir.lesechos.fr/traders/forex/'"
   ]
  },
  {
   "cell_type": "code",
   "execution_count": null,
   "metadata": {},
   "outputs": [],
   "source": [
    "def make_the_soup(url, timer_mean=0, timer_std=4):\n",
    "\n",
    "    # Waiting during a random time around timer_mean sec.\n",
    "    time.sleep(abs(np.random.randn()*timer_std + timer_mean))\n",
    "    # Getting the current time\n",
    "    now = datetime.datetime.now()\n",
    "    # Making the soup\n",
    "    page = requests.get(url)\n",
    "    soup = BeautifulSoup(page.text, 'html.parser')\n",
    "\n",
    "    return soup, now\n",
    "\n",
    "def get_currency(soup, now):\n",
    "\n",
    "    dict_values = {\n",
    "        'year' : now.year,\n",
    "        'month' : now.month,\n",
    "        'day' : now.day,\n",
    "        'hour' : now.hour,\n",
    "        'minute' : now.minute\n",
    "    }\n",
    "    for tr in soup.find('table').find_all('tr'):\n",
    "        if tr.find_all('td'):\n",
    "            dict_values[tr.find_all('td')[0].text.strip()] = np.float(tr.find_all('td')[1].text.strip().replace(',','.'))\n",
    "            \n",
    "    return dict_values\n",
    "\n",
    "def dump_data(f, soup, now):\n",
    "    soup, now = make_the_soup(url)\n",
    "    dict_values = get_currency(soup, now) \n",
    "    data = np.array([list(dict_values.values())])\n",
    "\n",
    "    np.savetxt(f, data)\n",
    "    f.flush()\n",
    "    time.sleep(0.1)"
   ]
  },
  {
   "cell_type": "code",
   "execution_count": null,
   "metadata": {},
   "outputs": [],
   "source": [
    "def make_the_soup(url, timer_mean=15, timer_std=4):\n",
    "\n",
    "    # Waiting during a random time around timer_mean sec.\n",
    "    time.sleep(abs(np.random.randn()*timer_std + timer_mean))\n",
    "    # Getting the current time\n",
    "    now = datetime.datetime.now()\n",
    "    # Making the soup\n",
    "    page = requests.get(url)\n",
    "    soup = BeautifulSoup(page.text, 'html.parser')\n",
    "\n",
    "    return soup, now\n",
    "\n",
    "def get_currency(soup, now):\n",
    "\n",
    "    dict_values = {\n",
    "        'year' : now.year,\n",
    "        'month' : now.month,\n",
    "        'day' : now.day,\n",
    "        'hour' : now.hour,\n",
    "        'minute' : now.minute,\n",
    "        'second' : now.second\n",
    "    }\n",
    "    for tr in soup.find('table').find_all('tr'):\n",
    "        if tr.find_all('td'):\n",
    "            dict_values[tr.find_all('td')[0].text.strip()] = np.float(tr.find_all('td')[1].text.strip().replace(',','.'))\n",
    "    \n",
    "    header = str(list(dict_values.keys()))[1:-1].replace('\\'','')\n",
    "    data = np.array([list(dict_values.values())])\n",
    "    \n",
    "    return header, data\n",
    "\n",
    "def dump_data(f, data):\n",
    "\n",
    "    np.savetxt(f, data)\n",
    "    f.flush()\n",
    "    time.sleep(0.1)"
   ]
  },
  {
   "cell_type": "markdown",
   "metadata": {},
   "source": [
    "# Crypto"
   ]
  },
  {
   "cell_type": "code",
   "execution_count": 2,
   "metadata": {},
   "outputs": [],
   "source": [
    "import json"
   ]
  },
  {
   "cell_type": "code",
   "execution_count": 3,
   "metadata": {},
   "outputs": [],
   "source": [
    "url = 'https://api.kraken.com/0/public/Ticker?pair=XBTEUR'"
   ]
  },
  {
   "cell_type": "code",
   "execution_count": 4,
   "metadata": {},
   "outputs": [],
   "source": [
    "page = json.loads(requests.get(url).text)"
   ]
  },
  {
   "cell_type": "code",
   "execution_count": 5,
   "metadata": {},
   "outputs": [
    {
     "data": {
      "text/plain": [
       "{'error': [],\n",
       " 'result': {'XXBTZEUR': {'a': ['8738.40000', '1', '1.000'],\n",
       "   'b': ['8738.30000', '3', '3.000'],\n",
       "   'c': ['8738.40000', '0.51734426'],\n",
       "   'v': ['2707.07995527', '2810.45731975'],\n",
       "   'p': ['8782.87057', '8782.58024'],\n",
       "   't': [18883, 20231],\n",
       "   'l': ['8647.60000', '8647.60000'],\n",
       "   'h': ['8938.40000', '8938.40000'],\n",
       "   'o': '8827.90000'}}}"
      ]
     },
     "execution_count": 5,
     "metadata": {},
     "output_type": "execute_result"
    }
   ],
   "source": [
    "page"
   ]
  },
  {
   "cell_type": "code",
   "execution_count": 6,
   "metadata": {},
   "outputs": [
    {
     "data": {
      "text/plain": [
       "'8738.40000'"
      ]
     },
     "execution_count": 6,
     "metadata": {},
     "output_type": "execute_result"
    }
   ],
   "source": [
    "page['result']['XXBTZEUR']['a'][0]"
   ]
  },
  {
   "cell_type": "code",
   "execution_count": 14,
   "metadata": {},
   "outputs": [],
   "source": [
    "def get_api_result(url, pair, timer_mean=0, timer_std=0.1):\n",
    "\n",
    "    # Waiting during a random time around timer_mean sec.\n",
    "    time.sleep(abs(np.random.randn()*timer_std + timer_mean))\n",
    "    # Getting the current time\n",
    "    now = datetime.datetime.now()\n",
    "    # Making the soup\n",
    "    data_url = url + '?pair={0}'.format(pair)\n",
    "    page = json.loads(requests.get(data_url).text)\n",
    "\n",
    "    return page, now\n",
    "\n",
    "def get_currency(page, now, pair):\n",
    "\n",
    "    dict_values = {\n",
    "        'year' : int(now.year),\n",
    "        'month' : int(now.month),\n",
    "        'day' : int(now.day),\n",
    "        'hour' : int(now.hour),\n",
    "        'minute' : int(now.minute),\n",
    "        'second' : int(now.second),\n",
    "        'ask' : page['result']['XXBTZEUR']['a'][0],\n",
    "        'bid' : page['result']['XXBTZEUR']['b'][0],\n",
    "        'last trade closed' : page['result']['XXBTZEUR']['c'][0],\n",
    "        'volume' : page['result']['XXBTZEUR']['v'][0],\n",
    "        'volume weighted average price' : page['result']['XXBTZEUR']['p'][0]\n",
    "    } \n",
    "    dict_values = {keys: np.float(value) for keys, value in dict_values.items()}\n",
    "    header = str(list(dict_values.keys()))[1:-1].replace('\\'','')\n",
    "    data = np.array([list(dict_values.values())])\n",
    "    \n",
    "    return dict_values, data\n",
    "\n",
    "def dump_data(f, soup, now):\n",
    "    soup, now = make_the_soup(url)\n",
    "    dict_values = get_currency(soup, now) \n",
    "    data = np.array([list(dict_values.values())])\n",
    "\n",
    "    np.savetxt(f, data)\n",
    "    f.flush()\n",
    "    time.sleep(0.1)"
   ]
  },
  {
   "cell_type": "code",
   "execution_count": 15,
   "metadata": {},
   "outputs": [],
   "source": [
    "page, now = get_api_result('https://api.kraken.com/0/public/Ticker', pair='XXBTZEUR')\n",
    "dict_values, data = get_currency(page, now, 'XXBTZEUR')"
   ]
  },
  {
   "cell_type": "code",
   "execution_count": 16,
   "metadata": {},
   "outputs": [
    {
     "data": {
      "text/plain": [
       "{'year': 2020.0,\n",
       " 'month': 9.0,\n",
       " 'day': 13.0,\n",
       " 'hour': 23.0,\n",
       " 'minute': 52.0,\n",
       " 'second': 11.0,\n",
       " 'ask': 8738.8,\n",
       " 'bid': 8738.7,\n",
       " 'last trade closed': 8738.7,\n",
       " 'volume': 2707.58237816,\n",
       " 'volume weighted average price': 8782.86232}"
      ]
     },
     "execution_count": 16,
     "metadata": {},
     "output_type": "execute_result"
    }
   ],
   "source": [
    "dict_values"
   ]
  },
  {
   "cell_type": "code",
   "execution_count": null,
   "metadata": {},
   "outputs": [],
   "source": [
    "dump_data('test.csv',data)"
   ]
  },
  {
   "cell_type": "code",
   "execution_count": null,
   "metadata": {},
   "outputs": [],
   "source": []
  }
 ],
 "metadata": {
  "kernelspec": {
   "display_name": "Python 3",
   "language": "python",
   "name": "python3"
  },
  "language_info": {
   "codemirror_mode": {
    "name": "ipython",
    "version": 3
   },
   "file_extension": ".py",
   "mimetype": "text/x-python",
   "name": "python",
   "nbconvert_exporter": "python",
   "pygments_lexer": "ipython3",
   "version": "3.7.7"
  }
 },
 "nbformat": 4,
 "nbformat_minor": 4
}
